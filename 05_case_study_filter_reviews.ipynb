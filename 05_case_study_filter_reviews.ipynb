{
 "cells": [
  {
   "cell_type": "code",
   "execution_count": 1,
   "metadata": {},
   "outputs": [],
   "source": [
    "import numpy as np\n",
    "import pandas as pd\n",
    "import matplotlib.pyplot as plt"
   ]
  },
  {
   "cell_type": "code",
   "execution_count": 2,
   "metadata": {},
   "outputs": [],
   "source": [
    "businesses = pd.read_csv(\"business_list.csv\")"
   ]
  },
  {
   "cell_type": "code",
   "execution_count": 3,
   "metadata": {},
   "outputs": [
    {
     "data": {
      "text/html": [
       "<div>\n",
       "<style scoped>\n",
       "    .dataframe tbody tr th:only-of-type {\n",
       "        vertical-align: middle;\n",
       "    }\n",
       "\n",
       "    .dataframe tbody tr th {\n",
       "        vertical-align: top;\n",
       "    }\n",
       "\n",
       "    .dataframe thead th {\n",
       "        text-align: right;\n",
       "    }\n",
       "</style>\n",
       "<table border=\"1\" class=\"dataframe\">\n",
       "  <thead>\n",
       "    <tr style=\"text-align: right;\">\n",
       "      <th></th>\n",
       "      <th>business_id</th>\n",
       "      <th>review_count</th>\n",
       "      <th>stars</th>\n",
       "      <th>state</th>\n",
       "    </tr>\n",
       "  </thead>\n",
       "  <tbody>\n",
       "    <tr>\n",
       "      <th>0</th>\n",
       "      <td>fweCYi8FmbJXHCqLnwuk8w</td>\n",
       "      <td>16</td>\n",
       "      <td>4.0</td>\n",
       "      <td>OH</td>\n",
       "    </tr>\n",
       "    <tr>\n",
       "      <th>1</th>\n",
       "      <td>PZ-LZzSlhSe9utkQYU8pFg</td>\n",
       "      <td>40</td>\n",
       "      <td>4.0</td>\n",
       "      <td>NV</td>\n",
       "    </tr>\n",
       "    <tr>\n",
       "      <th>2</th>\n",
       "      <td>BvYU3jvGd0TJ7IyZdfiN2Q</td>\n",
       "      <td>16</td>\n",
       "      <td>3.5</td>\n",
       "      <td>NC</td>\n",
       "    </tr>\n",
       "    <tr>\n",
       "      <th>3</th>\n",
       "      <td>PkDghu4aan2_wxrhXjTEgg</td>\n",
       "      <td>16</td>\n",
       "      <td>3.5</td>\n",
       "      <td>AB</td>\n",
       "    </tr>\n",
       "    <tr>\n",
       "      <th>4</th>\n",
       "      <td>RFbMVekR8lU9tPJ8sWrwHg</td>\n",
       "      <td>18</td>\n",
       "      <td>4.0</td>\n",
       "      <td>ON</td>\n",
       "    </tr>\n",
       "  </tbody>\n",
       "</table>\n",
       "</div>"
      ],
      "text/plain": [
       "              business_id  review_count  stars state\n",
       "0  fweCYi8FmbJXHCqLnwuk8w            16    4.0    OH\n",
       "1  PZ-LZzSlhSe9utkQYU8pFg            40    4.0    NV\n",
       "2  BvYU3jvGd0TJ7IyZdfiN2Q            16    3.5    NC\n",
       "3  PkDghu4aan2_wxrhXjTEgg            16    3.5    AB\n",
       "4  RFbMVekR8lU9tPJ8sWrwHg            18    4.0    ON"
      ]
     },
     "execution_count": 3,
     "metadata": {},
     "output_type": "execute_result"
    }
   ],
   "source": [
    "businesses.head()"
   ]
  },
  {
   "cell_type": "code",
   "execution_count": 4,
   "metadata": {},
   "outputs": [
    {
     "name": "stdout",
     "output_type": "stream",
     "text": [
      "['fweCYi8FmbJXHCqLnwuk8w' 'PZ-LZzSlhSe9utkQYU8pFg'\n",
      " 'BvYU3jvGd0TJ7IyZdfiN2Q' 'PkDghu4aan2_wxrhXjTEgg'\n",
      " 'RFbMVekR8lU9tPJ8sWrwHg']\n"
     ]
    }
   ],
   "source": [
    "business_id = businesses['business_id'].values\n",
    "print(business_id[0:5])"
   ]
  },
  {
   "cell_type": "code",
   "execution_count": 5,
   "metadata": {},
   "outputs": [],
   "source": [
    "import pandas as pd\n",
    "review_reader = pd.read_json('review.json',lines=True,chunksize=1000)"
   ]
  },
  {
   "cell_type": "code",
   "execution_count": 8,
   "metadata": {},
   "outputs": [
    {
     "name": "stdout",
     "output_type": "stream",
     "text": [
      "Wall time: 1h 43min 49s\n"
     ]
    }
   ],
   "source": [
    "%%time\n",
    "reviews = [review.loc[review['business_id'].apply(lambda x: x in business_id)] for review in review_reader]"
   ]
  },
  {
   "cell_type": "code",
   "execution_count": 11,
   "metadata": {},
   "outputs": [
    {
     "data": {
      "text/plain": [
       "list"
      ]
     },
     "execution_count": 11,
     "metadata": {},
     "output_type": "execute_result"
    }
   ],
   "source": [
    "type(reviews)"
   ]
  },
  {
   "cell_type": "code",
   "execution_count": 12,
   "metadata": {},
   "outputs": [
    {
     "data": {
      "text/plain": [
       "6685"
      ]
     },
     "execution_count": 12,
     "metadata": {},
     "output_type": "execute_result"
    }
   ],
   "source": [
    "len(reviews)"
   ]
  },
  {
   "cell_type": "code",
   "execution_count": 13,
   "metadata": {},
   "outputs": [],
   "source": [
    "reviews = pd.concat(reviews)"
   ]
  },
  {
   "cell_type": "code",
   "execution_count": 14,
   "metadata": {},
   "outputs": [
    {
     "data": {
      "text/plain": [
       "(594781, 9)"
      ]
     },
     "execution_count": 14,
     "metadata": {},
     "output_type": "execute_result"
    }
   ],
   "source": [
    "reviews.shape"
   ]
  },
  {
   "cell_type": "code",
   "execution_count": 15,
   "metadata": {},
   "outputs": [
    {
     "data": {
      "text/html": [
       "<div>\n",
       "<style scoped>\n",
       "    .dataframe tbody tr th:only-of-type {\n",
       "        vertical-align: middle;\n",
       "    }\n",
       "\n",
       "    .dataframe tbody tr th {\n",
       "        vertical-align: top;\n",
       "    }\n",
       "\n",
       "    .dataframe thead th {\n",
       "        text-align: right;\n",
       "    }\n",
       "</style>\n",
       "<table border=\"1\" class=\"dataframe\">\n",
       "  <thead>\n",
       "    <tr style=\"text-align: right;\">\n",
       "      <th></th>\n",
       "      <th>business_id</th>\n",
       "      <th>cool</th>\n",
       "      <th>date</th>\n",
       "      <th>funny</th>\n",
       "      <th>review_id</th>\n",
       "      <th>stars</th>\n",
       "      <th>text</th>\n",
       "      <th>useful</th>\n",
       "      <th>user_id</th>\n",
       "    </tr>\n",
       "  </thead>\n",
       "  <tbody>\n",
       "    <tr>\n",
       "      <th>1002</th>\n",
       "      <td>k2b3niokS_tosjah_rzCPw</td>\n",
       "      <td>5</td>\n",
       "      <td>2017-02-19 06:21:58</td>\n",
       "      <td>2</td>\n",
       "      <td>gi_-cTGatAcR5Ko_AI1Paw</td>\n",
       "      <td>4</td>\n",
       "      <td>I ordered the Heart Shaped pizza and meatball ...</td>\n",
       "      <td>4</td>\n",
       "      <td>uc9ITBuspRFkl-S3Bo90dg</td>\n",
       "    </tr>\n",
       "    <tr>\n",
       "      <th>1013</th>\n",
       "      <td>r5PLDU-4mSbde5XekTXSCA</td>\n",
       "      <td>0</td>\n",
       "      <td>2015-04-15 04:50:56</td>\n",
       "      <td>0</td>\n",
       "      <td>vvIzf3pr8lTqE_AOsxmgaA</td>\n",
       "      <td>4</td>\n",
       "      <td>We have been trying Eggplant sandwiches all ov...</td>\n",
       "      <td>0</td>\n",
       "      <td>MAmijW4ooUzujkufYYLMeQ</td>\n",
       "    </tr>\n",
       "    <tr>\n",
       "      <th>1016</th>\n",
       "      <td>565uVvO-hFqbajFNkt0hnw</td>\n",
       "      <td>0</td>\n",
       "      <td>2018-10-04 12:44:59</td>\n",
       "      <td>0</td>\n",
       "      <td>sqN2rt4W10h512EtD8ErCg</td>\n",
       "      <td>1</td>\n",
       "      <td>OMG, Longhitano's is absolutely disgusting! I'...</td>\n",
       "      <td>0</td>\n",
       "      <td>51munej7rdZuB7KfPofhaA</td>\n",
       "    </tr>\n",
       "    <tr>\n",
       "      <th>1060</th>\n",
       "      <td>2S6p5ICNswz_EdgcZk76qQ</td>\n",
       "      <td>1</td>\n",
       "      <td>2009-05-20 01:49:32</td>\n",
       "      <td>1</td>\n",
       "      <td>FxOzEjikyAXf7AlNI8FrxA</td>\n",
       "      <td>4</td>\n",
       "      <td>We were looking for Lancasters and ended up he...</td>\n",
       "      <td>2</td>\n",
       "      <td>4rg-rTjYpnEjNOqi-ej4RA</td>\n",
       "    </tr>\n",
       "    <tr>\n",
       "      <th>1109</th>\n",
       "      <td>XsSgv3vBOyOBXn3Co8EVIg</td>\n",
       "      <td>1</td>\n",
       "      <td>2015-07-28 08:40:01</td>\n",
       "      <td>1</td>\n",
       "      <td>UjrIOY89To4pp3TSOAPOmQ</td>\n",
       "      <td>4</td>\n",
       "      <td>First time in this place. Pretty impressive. I...</td>\n",
       "      <td>1</td>\n",
       "      <td>LnGDsxHFPhoCKT8sFGaViA</td>\n",
       "    </tr>\n",
       "  </tbody>\n",
       "</table>\n",
       "</div>"
      ],
      "text/plain": [
       "                 business_id  cool                date  funny  \\\n",
       "1002  k2b3niokS_tosjah_rzCPw     5 2017-02-19 06:21:58      2   \n",
       "1013  r5PLDU-4mSbde5XekTXSCA     0 2015-04-15 04:50:56      0   \n",
       "1016  565uVvO-hFqbajFNkt0hnw     0 2018-10-04 12:44:59      0   \n",
       "1060  2S6p5ICNswz_EdgcZk76qQ     1 2009-05-20 01:49:32      1   \n",
       "1109  XsSgv3vBOyOBXn3Co8EVIg     1 2015-07-28 08:40:01      1   \n",
       "\n",
       "                   review_id  stars  \\\n",
       "1002  gi_-cTGatAcR5Ko_AI1Paw      4   \n",
       "1013  vvIzf3pr8lTqE_AOsxmgaA      4   \n",
       "1016  sqN2rt4W10h512EtD8ErCg      1   \n",
       "1060  FxOzEjikyAXf7AlNI8FrxA      4   \n",
       "1109  UjrIOY89To4pp3TSOAPOmQ      4   \n",
       "\n",
       "                                                   text  useful  \\\n",
       "1002  I ordered the Heart Shaped pizza and meatball ...       4   \n",
       "1013  We have been trying Eggplant sandwiches all ov...       0   \n",
       "1016  OMG, Longhitano's is absolutely disgusting! I'...       0   \n",
       "1060  We were looking for Lancasters and ended up he...       2   \n",
       "1109  First time in this place. Pretty impressive. I...       1   \n",
       "\n",
       "                     user_id  \n",
       "1002  uc9ITBuspRFkl-S3Bo90dg  \n",
       "1013  MAmijW4ooUzujkufYYLMeQ  \n",
       "1016  51munej7rdZuB7KfPofhaA  \n",
       "1060  4rg-rTjYpnEjNOqi-ej4RA  \n",
       "1109  LnGDsxHFPhoCKT8sFGaViA  "
      ]
     },
     "execution_count": 15,
     "metadata": {},
     "output_type": "execute_result"
    }
   ],
   "source": [
    "reviews.head()"
   ]
  },
  {
   "cell_type": "code",
   "execution_count": 16,
   "metadata": {},
   "outputs": [],
   "source": [
    "reviews.to_csv('reviews_filtered.csv',index=False)"
   ]
  },
  {
   "cell_type": "code",
   "execution_count": null,
   "metadata": {},
   "outputs": [],
   "source": []
  }
 ],
 "metadata": {
  "kernelspec": {
   "display_name": "Python 3",
   "language": "python",
   "name": "python3"
  },
  "language_info": {
   "codemirror_mode": {
    "name": "ipython",
    "version": 3
   },
   "file_extension": ".py",
   "mimetype": "text/x-python",
   "name": "python",
   "nbconvert_exporter": "python",
   "pygments_lexer": "ipython3",
   "version": "3.7.3"
  }
 },
 "nbformat": 4,
 "nbformat_minor": 2
}
